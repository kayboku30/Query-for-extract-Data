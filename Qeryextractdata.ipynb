{
  "nbformat": 4,
  "nbformat_minor": 0,
  "metadata": {
    "colab": {
      "name": "Qeryextractdata.ipynb",
      "provenance": []
    },
    "kernelspec": {
      "name": "python3",
      "display_name": "Python 3"
    },
    "language_info": {
      "name": "python"
    }
  },
  "cells": [
    {
      "cell_type": "markdown",
      "source": [
        "Qery for extract data All Partner Delivery"
      ],
      "metadata": {
        "id": "URWorm1U5XVE"
      }
    },
    {
      "cell_type": "code",
      "execution_count": null,
      "metadata": {
        "id": "gEQNa0oc4-7L"
      },
      "outputs": [],
      "source": [
        "select o.id AS order_id, o.gosend_code, o.po_no, d.name AS Service, o.total_amount, pm.name AS payment, ou.name AS status, os.name, os.phone,os.address,os.location , i.weight, o.distance, o.order_date AS date, cri.name AS cancel_reason, os.city AS Origin, os.district_city AS Kecamatan\n",
        "FROM orders o\n",
        "LEFT JOIN users u ON o.user_id = u.id\n",
        "LEFT JOIN order_senders os ON o.order_sender_id = os.id\n",
        "LEFT JOIN item_specifications i ON o.item_specification_id = i.id\n",
        "LEFT JOIN item_types x ON i.item_type_id = x.id\n",
        "LEFT JOIN delivery_types d ON o.delivery_type_id = d.id\n",
        "LEFT JOIN payment_methods pm ON o.payment_method_id = pm.id\n",
        "LEFT JOIN order_statuses ou ON o.status_id = ou.id\n",
        "LEFT JOIN order_receivers ors ON o.order_receiver_id = ors.id\n",
        "LEFT JOIN cancel_reasons cri ON o.cancel_reason_id = cri.id\n",
        "\n",
        "/*where o.delivery_type_id IN (12,13,14,15,17,18,19,20,21,62) and o.created_at at time zone 'asia/jakarta' at time zone 'utc' between '2022-03-20 00:00:00' and '2022-03-26 23:59:59'*/\n",
        "/*where o.created_at at time zone 'asia/jakarta' at time zone 'utc' between '2022-03-03 00:00:00' and '2022-03-09 23:59:59'*/\n",
        "/*where o.delivery_type_id >= '44' and o.delivery_type_id <='48' and o.created_at at time zone 'asia/jakarta' at time zone 'utc' between '2022-03-01 00:00:00' and '2022-03-14 23:59:59'*/\n",
        "where o.delivery_type_id IN (16,54,55,56,57,58,59,60) and o.created_at at time zone 'asia/jakarta' at time zone 'utc' between '2022-03-20 00:00:00' and '2022-03-26 23:59:59'\n",
        "/*where o.created_at at time zone 'asia/jakarta' at time zone 'utc' between '2022-03-28 00:00:00' and '2022-03-28 23:59:59'*/\n",
        "/*where o.delivery_type_id IN (25,26,27,28,29,30,31,32,33,34,35,36,37,38,61) and o.created_at at time zone 'asia/jakarta' at time zone 'utc' between '2022-03-16 00:00:00' and '2022-03-22 23:59:59'*/\n",
        "/*where o.delivery_type_id IN (24) and o.created_at at time zone 'asia/jakarta' at time zone 'utc' between '2022-02-17 00:00:00' and '2022-03-18 23:59:59'*/\n",
        "/*where o.delivery_type_id IN (63,64,65,66,67,68) and o.created_at at time zone 'asia/jakarta' at time zone 'utc' between '2022-02-19 00:00:00' and '2022-03-21 23:59:59'*/"
      ]
    }
  ]
}